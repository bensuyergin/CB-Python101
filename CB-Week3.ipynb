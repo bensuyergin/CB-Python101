{
 "cells": [
  {
   "cell_type": "markdown",
   "metadata": {},
   "source": [
    "Aşağıdaki satırın sonundaki sayıyı çıkarmak için find () ve dizi dilimlemeyi (bkz. Bölüm 6.10) \n",
    "kullanarak kod yazın. Çıkarılan değeri ondalıklı sayıya dönüştürün ve yazdırın."
   ]
  },
  {
   "cell_type": "code",
   "execution_count": 41,
   "metadata": {},
   "outputs": [
    {
     "name": "stdout",
     "output_type": "stream",
     "text": [
      "18\n",
      "0.8475\n"
     ]
    }
   ],
   "source": [
    "text = \"X-DSPAM-Confidence:    0.8475\";\n",
    "new = text.find(\":\")\n",
    "print(new)\n",
    "new_float = float(text[new+1:])\n",
    "print(new_float)"
   ]
  },
  {
   "cell_type": "markdown",
   "metadata": {},
   "source": [
    "Bu alıştırmada size iki kelimeden oluşan bir string(dize) veriliyor. Bu iki kelimenin değiştirildiği bir string(dize) döndürmeniz gerekir."
   ]
  },
  {
   "cell_type": "code",
   "execution_count": 6,
   "metadata": {},
   "outputs": [
    {
     "name": "stdout",
     "output_type": "stream",
     "text": [
      "Enter your words: Golden Bear\n",
      "['Bear', 'Golden']\n"
     ]
    }
   ],
   "source": [
    "def switch_words(phrase):\n",
    "    phrase_split = phrase.split()\n",
    "    switch_w = phrase_split[::-1]\n",
    "    return switch_w\n",
    "\n",
    "phrase = input(\"Enter your words: \")\n",
    "result = switch_words(phrase)\n",
    "print(result)"
   ]
  },
  {
   "cell_type": "markdown",
   "metadata": {},
   "source": [
    "Bu egzersizde size 3 kelimelik bir dizi ve bu üç kelimeden birine karşılık gelen bir sayı verilecek. Verilen sayı sırasındaki kelimeyi iki kez yazdıran bir fonksiyon yazın."
   ]
  },
  {
   "cell_type": "code",
   "execution_count": 23,
   "metadata": {},
   "outputs": [
    {
     "name": "stdout",
     "output_type": "stream",
     "text": [
      "Enter your words: ONE TWO THREE\n",
      "Enter a number: 2\n",
      "ONE\n",
      "TWO\n",
      "TWO\n",
      "THREE\n"
     ]
    }
   ],
   "source": [
    "def double_word(phrase, ref):\n",
    "    phrase_split = phrase.split()\n",
    "    for i in phrase_split:\n",
    "        print(i)\n",
    "        if i == phrase_split[ref-1]:\n",
    "            print(i)\n",
    "        else:\n",
    "            continue\n",
    "\n",
    "phr = input(\"Enter your words: \")\n",
    "ref = int(input(\"Enter a number: \"))\n",
    "double_word(phr, ref)"
   ]
  },
  {
   "cell_type": "markdown",
   "metadata": {},
   "source": [
    "Words.txt adlı dosyayı açın, dosyayı okuyun ve dosyanın içeriğini büyük harfle yazdırın. Çıktıyı üretmek için words.txt dosyasını kullanın. "
   ]
  },
  {
   "cell_type": "code",
   "execution_count": null,
   "metadata": {},
   "outputs": [],
   "source": [
    "filename = \"words.txt\"\n",
    "fh = open(filename)\n",
    "fread = fh.read()\n",
    "print(fread.upper())"
   ]
  },
  {
   "cell_type": "markdown",
   "metadata": {},
   "source": [
    "Size bir dosya adı soran, ardından bu dosyayı açan ve dosyanın satırlarını arayarak dosya içini okuyan bir kod verildi. Sizden istediğimiz, “X-DSPAM-Confidence: ” değerlerinin ortalamasını bulmanız. "
   ]
  },
  {
   "cell_type": "code",
   "execution_count": null,
   "metadata": {},
   "outputs": [],
   "source": [
    "filename = input(\"Enter a file name: \")\n",
    "total = 0\n",
    "count = 0\n",
    "try:\n",
    "    file = open(filename)\n",
    "except:\n",
    "    print(\"Invalid file name\")\n",
    "    quit()\n",
    "                 \n",
    "for line in file:\n",
    "      if not line.startswith(\"X-DSPAM-Confidence:\") :\n",
    "        continue\n",
    "      else:\n",
    "        total += float(line[line.find(\":\")+1:])\n",
    "        count +=1\n",
    "        \n",
    "print(\"Average X-DSPAM-Confidence: \", total/count)\n",
    "                 \n",
    "    "
   ]
  }
 ],
 "metadata": {
  "kernelspec": {
   "display_name": "Python 3",
   "language": "python",
   "name": "python3"
  },
  "language_info": {
   "codemirror_mode": {
    "name": "ipython",
    "version": 3
   },
   "file_extension": ".py",
   "mimetype": "text/x-python",
   "name": "python",
   "nbconvert_exporter": "python",
   "pygments_lexer": "ipython3",
   "version": "3.8.5"
  }
 },
 "nbformat": 4,
 "nbformat_minor": 4
}
