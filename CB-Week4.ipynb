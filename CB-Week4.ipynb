{
 "cells": [
  {
   "cell_type": "markdown",
   "metadata": {},
   "source": [
    "romeo.txt dosyasını açın ve satır satır okuyun. Her satırı, split() fonksiyonunu kullanarak satırı bir String listesine bölün . Program bir kelime listesi oluşturmalıdır. Her satırdaki her kelime için, kelimenin zaten listede olup olmadığını kontrol edin ve eğer listedeyse tekrar eklemeyin. Program tamamlandığında, ortaya çıkan kelimeleri alfabetik sıraya göre sıralayın ve yazdırı"
   ]
  },
  {
   "cell_type": "code",
   "execution_count": null,
   "metadata": {},
   "outputs": [],
   "source": [
    "fname = input(\"Enter file name: \")\n",
    "fh = open(fname).read().split()\n",
    "print(fh)\n",
    "\n",
    "lst = list()\n",
    "\n",
    "for i in fh:\n",
    "    if i not in lst:\n",
    "        lst.append(i)\n",
    "\n",
    "lst.sort()\n",
    "print(lst)\n",
    "\n",
    "for x in range(len(lst)):\n",
    "    print(lst[x])"
   ]
  },
  {
   "cell_type": "markdown",
   "metadata": {},
   "source": [
    "mbox-short.txt dosyasını açın ve satır satır okuyun. Aşağıdaki satır gibi ‘From’ ile başlayan bir satır bulduğunuzda:\n",
    "\n",
    "From stephen.marquard@uct.ac.za Cmt 5 Ocak 09:14:16 2008\n",
    "“From” satırını split () kullanarak ayrıştıracak ve satırdaki ikinci kelimeyi (yani mesajı gönderen kişinin tüm adresini) yazdıracaksınız. İşlemler tamamlandığında, yazdırdığınız kişi sayısını yazdıracaksınız."
   ]
  },
  {
   "cell_type": "code",
   "execution_count": null,
   "metadata": {},
   "outputs": [],
   "source": [
    "fname = open(input(\"Enter file name: \"),\"r\" )\n",
    "fh=fname.readlines()\n",
    "count = 0\n",
    "\n",
    "for line in range(len(fh)):\n",
    "    if fh[line].startswith(\"From\"):\n",
    "        for mail in fh[line].split():\n",
    "            if \"@\" in mail:\n",
    "                count+=1\n",
    "                print(mail[:])\n",
    "                \n",
    "print(\"Include\", count , \"mail-adress\")"
   ]
  },
  {
   "cell_type": "markdown",
   "metadata": {},
   "source": [
    "Bir tamsayı listesi oluşturun ve bu listede tekrarlayan sayıları listeden kaldıran remove_duplicates adlı bir fonksiyon yazın."
   ]
  },
  {
   "cell_type": "code",
   "execution_count": 1,
   "metadata": {},
   "outputs": [
    {
     "name": "stdout",
     "output_type": "stream",
     "text": [
      "Listeye sayı giriniz: 1\n",
      "Listeye sayı giriniz: 2\n",
      "Listeye sayı giriniz: 2\n",
      "Listeye sayı giriniz: 5\n",
      "Listeye sayı giriniz: 5\n",
      "Listeye sayı giriniz: done\n",
      "['1', '2', '5']\n"
     ]
    }
   ],
   "source": [
    "def remove_duplicates(my_list):\n",
    "    lst = list()\n",
    "    for i in my_list:\n",
    "        if i not in lst:\n",
    "            lst.append(i)\n",
    "    print(lst)       \n",
    "    \n",
    "  \n",
    "my_list = []    \n",
    "while True:\n",
    "    \n",
    "    num = input(\"Listeye sayı giriniz: \")\n",
    "    if num == \"done\": \n",
    "        break \n",
    "    my_list.append(num)\n",
    "remove_duplicates(my_list)   "
   ]
  },
  {
   "cell_type": "markdown",
   "metadata": {},
   "source": [
    "mbox-short.txt dosyasını okumak için bir program yazın ve en çok e-posta mesajını kimin gönderdiğini bulun . Program ‘From’ satırlarını arar ve bu satırların ikinci kelimesini postayı gönderen kişi olarak alır. Program, gönderenin posta adresini dosyada görünme sayısı ile eşleyen bir Python sözlüğü oluşturur. Sözlük oluşturulduktan sonra program, en üretken kaydediciyi bulmak için maksimum döngü kullanarak sözlükten okur."
   ]
  },
  {
   "cell_type": "code",
   "execution_count": null,
   "metadata": {},
   "outputs": [],
   "source": [
    "fname = open(input(\"Enter file name: \"),\"r\" )\n",
    "fh=fname.readlines()\n",
    "handleList = list()\n",
    "count = dict()\n",
    "\n",
    "for line in fh:\n",
    "    if line.startswith(\"From\"):\n",
    "        handleList=line.split()\n",
    "        count[handleList[1]] = count.get(handleList[1],0) + 1\n",
    "\n",
    "for i in count:\n",
    "    if count[i] == max(count.values()):\n",
    "        print(\"Max Repeated Mail: \",i,\" = \", max(count.values()))"
   ]
  },
  {
   "cell_type": "markdown",
   "metadata": {},
   "source": [
    "İki listeyi bir sözlüğe eşleyen ve yeni sözlüğü döndüren bir işlev yazın.\n",
    "\n",
    "Misal:\n",
    "\n",
    "list1 = [1, 2, 3]\n",
    "\n",
    "list2 = [8, 9, 10]\n",
    "\n",
    "new_dictionary = {1:8 , 2:9 , 3:10}"
   ]
  },
  {
   "cell_type": "code",
   "execution_count": 3,
   "metadata": {},
   "outputs": [
    {
     "name": "stdout",
     "output_type": "stream",
     "text": [
      "[{1: 4, 2: 5, 3: 6}]\n"
     ]
    }
   ],
   "source": [
    "def two_list(keys, values):\n",
    "    n = len(keys)\n",
    "    return [dict(zip(keys, values[i:i + n]))\n",
    "            for i in range(0, len(values), n)]\n",
    "\n",
    "\n",
    "list1 = [1,2,3]\n",
    "list2 = [4,5,6]\n",
    "print(two_list(list1, list2))\n"
   ]
  },
  {
   "cell_type": "markdown",
   "metadata": {},
   "source": [
    "Tüm kullanıcı adlarını ve şifreleri takip eden users  adında sözlüğe dayanarak bir kullanıcı adı ve şifrenin doğru olup olmadığını kontrol eden bir fonksiyon yazın. Fonksiyonunuz, verilen kullanıcı adı ve şifrenin doğru olup olmadığına bağlı olarak True veya False dönmelidir."
   ]
  },
  {
   "cell_type": "code",
   "execution_count": 6,
   "metadata": {},
   "outputs": [],
   "source": [
    "def check_login(users, username, password):\n",
    "    \n",
    "    if username in users:\n",
    "        if users[username] == password:\n",
    "            print(\"Login successful\")\n",
    "            return True\n",
    "        else:\n",
    "            print(\"Wrong password\")\n",
    "            return False\n",
    "    else:\n",
    "        print(\"User does not exist\")\n",
    "        return False"
   ]
  },
  {
   "cell_type": "markdown",
   "metadata": {},
   "source": [
    "mbox-short.txt dosyasını okumak için bir program yazın ve her mesaj için günün saatine göre dağılımı hesaplayın. Saati bularak ve ardından iki nokta üst üste kullanarak dizeyi ikinci kez bölerek saati ‘Başlangıç’ satırından çıkarabilirsiniz.\n",
    "\n",
    "\n",
    "\n",
    "Her saat için sayıları biriktirdikten sonra, aşağıda gösterildiği gibi saate göre sıralanmış sayımları yazdırın.\n",
    "\n",
    "\n",
    "\n",
    "Gönderen stephen.marquard@uct.ac.za Cmt 5 Ocak 09 : 14: 16 2008"
   ]
  },
  {
   "cell_type": "code",
   "execution_count": null,
   "metadata": {},
   "outputs": [],
   "source": [
    "    "
   ]
  },
  {
   "cell_type": "code",
   "execution_count": null,
   "metadata": {},
   "outputs": [],
   "source": []
  },
  {
   "cell_type": "code",
   "execution_count": null,
   "metadata": {},
   "outputs": [],
   "source": []
  }
 ],
 "metadata": {
  "kernelspec": {
   "display_name": "Python 3",
   "language": "python",
   "name": "python3"
  },
  "language_info": {
   "codemirror_mode": {
    "name": "ipython",
    "version": 3
   },
   "file_extension": ".py",
   "mimetype": "text/x-python",
   "name": "python",
   "nbconvert_exporter": "python",
   "pygments_lexer": "ipython3",
   "version": "3.8.5"
  }
 },
 "nbformat": 4,
 "nbformat_minor": 4
}
