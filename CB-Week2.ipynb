{
 "cells": [
  {
   "cell_type": "markdown",
   "metadata": {},
   "source": [
    "Brüt ücreti hesaplamak için input() fonksiyonunu kullanarak kullanıcıdan çalışma saati girdisini alın. Buradan sonra ödeme hesaplaması mantığı için computePay() adlı bir fonksiyon oluşturup işlemler için bu fonksiyonu kullanın. Çalışma saati 40 ve altındaysa saat başına ücret 10 TL'dir. 40 saatin üstünde çalışıldıysa saat başına ücret 15 lira sayılmaktadır. Girilen saate göre ücreti hesaplayan, sizin tarafınızdan oluşturulan fonksiyon ile çalışan bir kod yazınız.\n",
    "\n",
    "Test etmek için 30 saat değerini giriniz, sonuç 300 TL çıkmalı, ikincil test olarak 50 değerini giriniz, sonuç 750 TL çıkmalı."
   ]
  },
  {
   "cell_type": "code",
   "execution_count": 2,
   "metadata": {},
   "outputs": [
    {
     "name": "stdout",
     "output_type": "stream",
     "text": [
      "Enter Hours:50\n",
      "Pay 750.0\n"
     ]
    }
   ],
   "source": [
    "def computepay(h,r):\n",
    "    \n",
    "  if hrs<=40:\n",
    "    pay = hrs * r\n",
    "    return pay\n",
    "  else:\n",
    "    pay = hrs * (r+5)\n",
    "    return pay\n",
    "    \n",
    "hrs = float(input(\"Enter Hours:\"))\n",
    "p = computepay(hrs,10)\n",
    "print(\"Pay\",p)"
   ]
  },
  {
   "cell_type": "markdown",
   "metadata": {},
   "source": [
    "Bir default argümanı olan ve onu döndüren bir fonksiyon yazın."
   ]
  },
  {
   "cell_type": "code",
   "execution_count": 1,
   "metadata": {},
   "outputs": [
    {
     "name": "stdout",
     "output_type": "stream",
     "text": [
      "35\n",
      "38\n"
     ]
    }
   ],
   "source": [
    "def func_with_default(first, second=18, third=12):\n",
    "    result = first + second + third\n",
    "    return result\n",
    "\n",
    "rs1 = func_with_default(5)\n",
    "rs2 = func_with_default(5, 9, 24)\n",
    "print(rs1)\n",
    "print(rs2)"
   ]
  },
  {
   "cell_type": "markdown",
   "metadata": {},
   "source": [
    "Çok sayıda insanı ve çok sayıda grubu alan bir fonksiyon yazın. Kişiler gruplara eşit olarak bölünecektir (fazla kişiler olabilir). Çift grupları oluşturduktan sonra kalan kişi sayısını döndürür."
   ]
  },
  {
   "cell_type": "code",
   "execution_count": 1,
   "metadata": {},
   "outputs": [
    {
     "name": "stdout",
     "output_type": "stream",
     "text": [
      "Enter the number of people: 14\n",
      "Enter the number of groups: 3\n",
      "Number of people left outside 2\n"
     ]
    }
   ],
   "source": [
    "def left_over(num_people, num_groups):\n",
    "    \n",
    "    if num_people%num_groups==0:\n",
    "        \n",
    "        print(\"There is no one left outside.\")\n",
    "        \n",
    "    else:\n",
    "        \n",
    "        x = num_people % num_groups\n",
    "        print(\"Number of people left outside\", x)\n",
    "\n",
    "\n",
    "num_people = int(input(\"Enter the number of people: \"))\n",
    "num_groups = int(input(\"Enter the number of groups: \"))\n",
    "result = left_over(num_people, num_groups)\n"
   ]
  },
  {
   "cell_type": "markdown",
   "metadata": {},
   "source": [
    "Fizikte, bir nesnenin sabit ivmeyle hareket ederken son hızını (veya hızını) bulmak için aşağıdaki denklem kullanılabilir:\n",
    "vf = vi + at\n",
    "burada:\n",
    "vf= son hız\n",
    "vi= ilk hız\n",
    "a= hızlanma\n",
    "t= zaman\n",
    "İlk hız, ivme ve zaman verildiğinde, son hızı döndürecek bir fonksiyon yazın."
   ]
  },
  {
   "cell_type": "code",
   "execution_count": 2,
   "metadata": {},
   "outputs": [
    {
     "name": "stdout",
     "output_type": "stream",
     "text": [
      "initial speed: 5\n",
      "acceleration: 4\n",
      "time: 3\n",
      "17\n"
     ]
    }
   ],
   "source": [
    "def calculate_velocity(vi, a, t):\n",
    "    vf = vi + a*t\n",
    "    return vf\n",
    "\n",
    "\n",
    "vi = int(input(\"initial speed: \"))\n",
    "a = int(input(\"acceleration: \"))\n",
    "t = int(input(\"time: \"))\n",
    "vf = calculate_velocity(vi, a, t)\n",
    "print(vf)"
   ]
  },
  {
   "cell_type": "markdown",
   "metadata": {},
   "source": [
    "Kullanıcı 'done' ifadesini girene kadar bir kullanıcıdan sürekli olarak tamsayı sayıları isteyen bir program yazın. 'done' girildikten sonra, sayıların en büyük ve en küçüğünü yazdırın. Kullanıcı geçerli bir numaradan başka bir şey girerse, onu bir try/except yardımı ile yakalayın ve uygun bir mesaj yazdırın. "
   ]
  },
  {
   "cell_type": "code",
   "execution_count": 3,
   "metadata": {},
   "outputs": [
    {
     "name": "stdout",
     "output_type": "stream",
     "text": [
      "Enter a number: 90\n",
      "Enter a number: 45\n",
      "Enter a number: 36\n",
      "Enter a number: 78\n",
      "Enter a number: 42\n",
      "Enter a number: value\n",
      "Invalid value\n",
      "Enter a number: 67\n",
      "Enter a number: done\n",
      "Maximum 90.0\n",
      "Minimum 36.0\n"
     ]
    }
   ],
   "source": [
    "largest = None\n",
    "smallest = None\n",
    "while True:\n",
    "    \n",
    "    num = input(\"Enter a number: \")\n",
    "    \n",
    "    if num == \"done\": break\n",
    "    \n",
    "    try:\n",
    "        float_num = float(num)\n",
    "    except:\n",
    "        print(\"Invalid value\")\n",
    "        continue\n",
    "    \n",
    "    if smallest is None:\n",
    "        smallest = float_num\n",
    "        \n",
    "    elif float_num < smallest:\n",
    "        smallest = float_num\n",
    "        \n",
    "    if largest is None:\n",
    "        largest = float_num    \n",
    "    \n",
    "    elif float_num > largest:\n",
    "        largest = float_num\n",
    "\n",
    "        \n",
    "\n",
    "print(\"Maximum\", largest)\n",
    "print(\"Minimum\", smallest)"
   ]
  },
  {
   "cell_type": "markdown",
   "metadata": {},
   "source": [
    "Bu egzersizde, size bir alışveriş listesi ve bir eşya verilecek. Eğer verilen eşya alışveriş listesinde ise True döndürün, alışveriş listesinde değilse False döndürün.\n"
   ]
  },
  {
   "cell_type": "code",
   "execution_count": 8,
   "metadata": {},
   "outputs": [
    {
     "name": "stdout",
     "output_type": "stream",
     "text": [
      "Please enter a valid item in the shopping list: eggs\n"
     ]
    },
    {
     "data": {
      "text/plain": [
       "True"
      ]
     },
     "execution_count": 8,
     "metadata": {},
     "output_type": "execute_result"
    }
   ],
   "source": [
    "my_list= [\"milk\", \"eggs\", \"bread\"]\n",
    "\n",
    "def shopping_list(my_list, item):\n",
    "    \n",
    "    isMatch = False\n",
    "    if item in my_list:\n",
    "        isMatch = True\n",
    "        return isMatch\n",
    "    else:\n",
    "        return isMatch\n",
    "        \n",
    "item = input(\"Please enter a valid item in the shopping list: \") \n",
    "shopping_list(my_list, item)"
   ]
  },
  {
   "cell_type": "markdown",
   "metadata": {},
   "source": [
    "Bu alıştırmada, belirli sayıda satır verildiğinde bir yıldız üçgeni oluşturabilecek bir dize(string) döndürmelisiniz."
   ]
  },
  {
   "cell_type": "code",
   "execution_count": 21,
   "metadata": {},
   "outputs": [
    {
     "name": "stdout",
     "output_type": "stream",
     "text": [
      "Enter the number of rows: 6\n",
      "*\n",
      "**\n",
      "***\n",
      "****\n",
      "*****\n",
      "******\n"
     ]
    }
   ],
   "source": [
    "def star(rows):\n",
    "    for i in range(1,rows+1,1):\n",
    "        print(i*\"*\")\n",
    "        \n",
    "rows= int(input(\"Enter the number of rows: \"))\n",
    "star(rows)"
   ]
  },
  {
   "cell_type": "code",
   "execution_count": null,
   "metadata": {},
   "outputs": [],
   "source": []
  }
 ],
 "metadata": {
  "kernelspec": {
   "display_name": "Python 3",
   "language": "python",
   "name": "python3"
  },
  "language_info": {
   "codemirror_mode": {
    "name": "ipython",
    "version": 3
   },
   "file_extension": ".py",
   "mimetype": "text/x-python",
   "name": "python",
   "nbconvert_exporter": "python",
   "pygments_lexer": "ipython3",
   "version": "3.8.5"
  }
 },
 "nbformat": 4,
 "nbformat_minor": 4
}
