{
 "cells": [
  {
   "cell_type": "markdown",
   "metadata": {},
   "source": [
    " Kullanıcıdan adını sormak için girdi fonksiyonunu (input) kullanan ve sonra girilen isme selam veren bir program yazın.\n"
   ]
  },
  {
   "cell_type": "code",
   "execution_count": 1,
   "metadata": {},
   "outputs": [
    {
     "name": "stdout",
     "output_type": "stream",
     "text": [
      "Enter your name: Bensu\n",
      "Hello Bensu\n"
     ]
    }
   ],
   "source": [
    "name = input(\"Enter your name: \")\n",
    "print(\"Hello\", name)"
   ]
  },
  {
   "cell_type": "markdown",
   "metadata": {},
   "source": [
    "Brüt ücreti hesaplamak için input() kullanarak kullanıcıdan saat başına ücret ve saati isteyen bir program yazın. Programı test etmek için 35 saat ve saat başına ücret olarak 2,75 TL kullanın (ücret 96,25 TL olmalıdır). Bir stringi okumak için input() ve stringi bir sayıya dönüştürmek için float () fonksiyonlarını kullanmalısınız. Kullanıcının kesinlikle sayısal bir değer girecektir."
   ]
  },
  {
   "cell_type": "code",
   "execution_count": 1,
   "metadata": {},
   "outputs": [
    {
     "name": "stdout",
     "output_type": "stream",
     "text": [
      "Enter Hours:35\n",
      "Enter Price:2.75\n",
      "96.25 TL\n"
     ]
    }
   ],
   "source": [
    "hrs = float(input(\"Enter Hours:\"))\n",
    "price = float(input(\"Enter Price:\"))\n",
    "salary = hrs * price\n",
    "print(salary, \"TL\")"
   ]
  },
  {
   "cell_type": "markdown",
   "metadata": {},
   "source": [
    "Brüt ücreti hesaplamak için input() kullanarak kullanıcıdan çalışma saati alın. 40 saate kadar, her saat başına ücret 10 TL dir. 40 saatin üstündeki saatlerin ücreti 15 TL olmaktadır. Girilen saate göre ücreti hesaplayan bir kod yazınız.\n",
    "Test etmek için 30 saat değerini giriniz, sonuç 300 TL çıkmalı, ikincil test olarak 50 değerini giriniz, sonuç 550 TL çıkmalı."
   ]
  },
  {
   "cell_type": "code",
   "execution_count": 3,
   "metadata": {},
   "outputs": [
    {
     "name": "stdout",
     "output_type": "stream",
     "text": [
      "Enter Hours:50\n",
      "550.0 TL\n"
     ]
    }
   ],
   "source": [
    "\n",
    "hrs = float(input(\"Enter Hours:\"))\n",
    "\n",
    "if hrs<=40:\n",
    "    salary = hrs * 10\n",
    "else:\n",
    "    extra_hrs=hrs-40\n",
    "    salary = 40*10 + extra_hrs * 15\n",
    "print(salary, \"TL\")"
   ]
  },
  {
   "cell_type": "markdown",
   "metadata": {},
   "source": [
    "0.0 ile 1.0 arasında bir puan istemek için bir program yazın. Puan aralık dışındaysa bir hata yazdırın. Puan 0,0 ile 1,0 arasında ise, aşağıdaki tabloyu kullanarak bir harf notu yazdırın:\n",
    "Puan\t\tNot\n",
    "> = 0,9\t\tA\n",
    "> = 0,8\t\tB\n",
    "> = 0,7 \tC\n",
    "> = 0,6 \tD\n",
    "<0,6 \t\tF\n",
    "Kullanıcı aralık dışında bir değer girerse, uygun hata mesajı ve çıkış( quit() ) yapın."
   ]
  },
  {
   "cell_type": "code",
   "execution_count": 4,
   "metadata": {},
   "outputs": [
    {
     "name": "stdout",
     "output_type": "stream",
     "text": [
      "Enter Score: 0.4\n",
      "Note F\n"
     ]
    }
   ],
   "source": [
    "try:\n",
    "    score = float(input(\"Enter Score: \"))\n",
    "except:\n",
    "    print(\"Invalid Value\")\n",
    "    quit()\n",
    "    \n",
    "if score >= 0.0 and score <= 1.0:\n",
    "    if score >=0.9:\n",
    "        print(\"Note A\")\n",
    "    if score >=0.8:\n",
    "        print(\"Note B\")\n",
    "    if score >=0.7:\n",
    "        print(\"Note C\")\n",
    "    if score >=0.6:\n",
    "        print(\"Note D\")\n",
    "    if score < 0.6:\n",
    "        print(\"Note F\")\n",
    "else:\n",
    "    print(\"Enter a Score in the valid range.\")"
   ]
  }
 ],
 "metadata": {
  "kernelspec": {
   "display_name": "Python 3",
   "language": "python",
   "name": "python3"
  },
  "language_info": {
   "codemirror_mode": {
    "name": "ipython",
    "version": 3
   },
   "file_extension": ".py",
   "mimetype": "text/x-python",
   "name": "python",
   "nbconvert_exporter": "python",
   "pygments_lexer": "ipython3",
   "version": "3.8.5"
  }
 },
 "nbformat": 4,
 "nbformat_minor": 4
}
